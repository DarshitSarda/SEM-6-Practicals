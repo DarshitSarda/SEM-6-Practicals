{
 "cells": [
  {
   "cell_type": "code",
   "execution_count": 4,
   "id": "8c2025f0",
   "metadata": {},
   "outputs": [
    {
     "name": "stdout",
     "output_type": "stream",
     "text": [
      "Enter the number of elements to push in stack: 10\n",
      "Stack after 10 push operations: [0, 1, 2, 3, 4, 5, 6, 7, 8, 9]\n",
      "Cost after 10 push operations: 10\n",
      "\n",
      "Enter the number of multipop operations to perform: 1\n",
      "\n",
      "Enter the number of elements to multipop: 20\n",
      "Stack after multipop(20): []\n",
      "Cost after multipop(20): 20\n",
      "\n",
      "Total cost = 20\n",
      "Total operations = 11\n",
      "Amortized Cost per operation: 1.82\n"
     ]
    }
   ],
   "source": [
    "def push(stack, n, cost):\n",
    "    for i in range(n):\n",
    "        stack.append(i)\n",
    "        cost += 1\n",
    "    return cost\n",
    "    \n",
    "def multipop(stack, n, cost):\n",
    "    for i in range(n):\n",
    "        k = int(input('\\nEnter the number of elements to multipop: '))\n",
    "        for i in range(min(k, len(stack))):\n",
    "            stack.pop()\n",
    "            cost += 1\n",
    "\n",
    "        print(f'Stack after multipop({k}):', stack)\n",
    "        print(f'Cost after multipop({k}):', cost)    \n",
    "    return cost\n",
    "\n",
    "stack = []\n",
    "cost = 0\n",
    "operations = 0\n",
    "\n",
    "n = int(input('Enter the number of elements to push in stack: '))\n",
    "operations += n # each push and pop counts as 1 operation, and has cost 1\n",
    "cost = push(stack, n, cost)\n",
    "print(f'Stack after {n} push operations:', stack)\n",
    "print(f'Cost after {n} push operations:', cost)\n",
    "\n",
    "n = int(input('\\nEnter the number of multipop operations to perform: '))\n",
    "operations += n # each multipop(k) counts as 1 operation, and has cost as k\n",
    "cost = multipop(stack, n, cost)\n",
    "\n",
    "amortized_cost = cost / operations\n",
    "print('\\nTotal cost =', cost)\n",
    "print('Total operations =', operations)\n",
    "print('Amortized Cost per operation:', round(amortized_cost, 2))   "
   ]
  },
  {
   "cell_type": "code",
   "execution_count": null,
   "id": "768ccef7",
   "metadata": {},
   "outputs": [],
   "source": []
  },
  {
   "cell_type": "code",
   "execution_count": null,
   "id": "ff32f4e2",
   "metadata": {},
   "outputs": [],
   "source": []
  }
 ],
 "metadata": {
  "kernelspec": {
   "display_name": "Python 3 (ipykernel)",
   "language": "python",
   "name": "python3"
  },
  "language_info": {
   "codemirror_mode": {
    "name": "ipython",
    "version": 3
   },
   "file_extension": ".py",
   "mimetype": "text/x-python",
   "name": "python",
   "nbconvert_exporter": "python",
   "pygments_lexer": "ipython3",
   "version": "3.11.5"
  }
 },
 "nbformat": 4,
 "nbformat_minor": 5
}
