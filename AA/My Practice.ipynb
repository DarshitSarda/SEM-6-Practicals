{
 "cells": [
  {
   "cell_type": "markdown",
   "id": "b37bb2bf",
   "metadata": {},
   "source": [
    "# Aggregate Method"
   ]
  },
  {
   "cell_type": "code",
   "execution_count": 5,
   "id": "a8b1e5f2",
   "metadata": {},
   "outputs": [
    {
     "name": "stdout",
     "output_type": "stream",
     "text": [
      "Enter the number of elements you want: 10\n",
      "Stack after 10 push operations: [0, 1, 2, 3, 4, 5, 6, 7, 8, 9]\n",
      "Cost after 10 push operations: 10\n",
      "\n",
      "Enter the number of multipop operations you want:2\n",
      "Enter the number of elements you want to multipop:4\n",
      "Stack after multipop(4): [0, 1, 2, 3, 4, 5]\n",
      "Cost after multipop(4): 14\n",
      "Enter the number of elements you want to multipop:5\n",
      "Stack after multipop(5): [0]\n",
      "Cost after multipop(5): 19\n",
      "Total cost:  19\n",
      "Total number of operations:  12\n",
      "Print amortized cost:  1.58\n"
     ]
    }
   ],
   "source": [
    "def push(stack,n,cost):\n",
    "    for i in range(n):\n",
    "        stack.append(i)\n",
    "        cost = cost+1\n",
    "    return cost\n",
    "\n",
    "\n",
    "def multipop(stack,n,cost):\n",
    "    for i in range(n):\n",
    "        k=int(input(\"Enter the number of elements you want to multipop:\"))\n",
    "        for i in range(min(k,len(stack))):\n",
    "            stack.pop()\n",
    "            cost = cost + 1\n",
    "        print(f'Stack after multipop({k}):', stack)\n",
    "        print(f'Cost after multipop({k}):', cost)\n",
    "    return cost\n",
    "\n",
    "\n",
    "operations = 0\n",
    "cost = 0\n",
    "stack = []\n",
    "\n",
    "n = int(input(\"Enter the number of elements you want: \"))\n",
    "operations = operations + n\n",
    "cost = push(stack,n,cost)\n",
    "print(f'Stack after {n} push operations:', stack)\n",
    "print(f'Cost after {n} push operations:', cost)\n",
    "\n",
    "n = int(input(\"\\nEnter the number of multipop operations you want:\"))\n",
    "operations = operations + n\n",
    "cost = multipop(stack,n,cost)\n",
    "\n",
    "\n",
    "amortized_cost = cost/operations\n",
    "print(\"Total cost: \",cost)\n",
    "print(\"Total number of operations: \",operations)\n",
    "print(\"Print amortized cost: \",round(amortized_cost,2))"
   ]
  },
  {
   "cell_type": "code",
   "execution_count": null,
   "id": "1d902799",
   "metadata": {},
   "outputs": [],
   "source": []
  },
  {
   "cell_type": "markdown",
   "id": "d3866de4",
   "metadata": {},
   "source": [
    "# Accounting Method"
   ]
  },
  {
   "cell_type": "code",
   "execution_count": 6,
   "id": "5075368a",
   "metadata": {},
   "outputs": [
    {
     "name": "stdout",
     "output_type": "stream",
     "text": [
      "Enter the number of elements you want: 10\n",
      "Accounting Method\n",
      "Elements\tDoubling Copying Cost\tInsertion Cost\tTotal Cost\t\tBank\n",
      "1 \t\t\t\t 0 \t\t 1 \t 1 \t\t\t 1\n",
      "2 \t\t\t\t 1 \t\t 1 \t 2 \t\t\t 2\n",
      "3 \t\t\t\t 2 \t\t 1 \t 3 \t\t\t 2\n",
      "4 \t\t\t\t 0 \t\t 1 \t 1 \t\t\t 4\n",
      "5 \t\t\t\t 4 \t\t 1 \t 5 \t\t\t 2\n",
      "6 \t\t\t\t 0 \t\t 1 \t 1 \t\t\t 4\n",
      "7 \t\t\t\t 0 \t\t 1 \t 1 \t\t\t 6\n",
      "8 \t\t\t\t 0 \t\t 1 \t 1 \t\t\t 8\n",
      "9 \t\t\t\t 8 \t\t 1 \t 9 \t\t\t 2\n",
      "10 \t\t\t\t 0 \t\t 1 \t 1 \t\t\t 4\n"
     ]
    }
   ],
   "source": [
    "def accounting(n):\n",
    "    dcost=0\n",
    "    icost=0\n",
    "    size=1\n",
    "    total=0\n",
    "    bank=0\n",
    "    print(\"Elements\\tDoubling Copying Cost\\tInsertion Cost\\tTotal Cost\\t\\tBank\")\n",
    "    \n",
    "    for i in range(1,n+1):\n",
    "        icost=1\n",
    "        if i==1:\n",
    "            dcost = i-1\n",
    "            bank = bank + 2 - (icost+dcost)\n",
    "        elif i>size:\n",
    "            size = size*2\n",
    "            dcost= i-1\n",
    "            bank = bank + 3 - (icost+dcost)\n",
    "        else:\n",
    "            dcost = 0\n",
    "            bank = bank + 3 - (icost+dcost)\n",
    "        \n",
    "        total=icost+dcost\n",
    "        print(i, \"\\t\\t\\t\\t\", dcost, \"\\t\\t\", icost, \"\\t\", total, \"\\t\\t\\t\", bank) \n",
    "        icost = 0\n",
    "        dcost = 0\n",
    "\n",
    "n = int(input(\"Enter the number of elements you want: \"))\n",
    "print(\"Accounting Method\")\n",
    "accounting(n)"
   ]
  },
  {
   "cell_type": "code",
   "execution_count": null,
   "id": "6e59cb77",
   "metadata": {},
   "outputs": [],
   "source": []
  },
  {
   "cell_type": "markdown",
   "id": "48994ad9",
   "metadata": {},
   "source": [
    "# Potential Method"
   ]
  },
  {
   "cell_type": "code",
   "execution_count": 8,
   "id": "ca16e093",
   "metadata": {},
   "outputs": [
    {
     "name": "stdout",
     "output_type": "stream",
     "text": [
      "Enter the number of elements that you want: 17\n",
      "Potential Method\n",
      "Elements\tSize\tTotal Cost\tPhi\tPotential\n",
      "1 \t\t 1 \t 1   \t\t 1   \t\t 2\n",
      "2 \t\t 2 \t 2   \t\t 2   \t\t 3\n",
      "3 \t\t 4 \t 3   \t\t 2   \t\t 3\n",
      "4 \t\t 4 \t 1   \t\t 4   \t\t 3\n",
      "5 \t\t 8 \t 5   \t\t 2   \t\t 3\n",
      "6 \t\t 8 \t 1   \t\t 4   \t\t 3\n",
      "7 \t\t 8 \t 1   \t\t 6   \t\t 3\n",
      "8 \t\t 8 \t 1   \t\t 8   \t\t 3\n",
      "9 \t\t 16 \t 9   \t\t 2   \t\t 3\n",
      "10 \t\t 16 \t 1   \t\t 4   \t\t 3\n",
      "11 \t\t 16 \t 1   \t\t 6   \t\t 3\n",
      "12 \t\t 16 \t 1   \t\t 8   \t\t 3\n",
      "13 \t\t 16 \t 1   \t\t 10   \t\t 3\n",
      "14 \t\t 16 \t 1   \t\t 12   \t\t 3\n",
      "15 \t\t 16 \t 1   \t\t 14   \t\t 3\n",
      "16 \t\t 16 \t 1   \t\t 16   \t\t 3\n",
      "17 \t\t 32 \t 17   \t\t 2   \t\t 3\n"
     ]
    }
   ],
   "source": [
    "def potential(n):\n",
    "    phi = 0\n",
    "    prevphi = 0\n",
    "    cost = 0\n",
    "    size = 1\n",
    "    print(\"Elements\\tSize\\tTotal Cost\\tPhi\\tPotential\")\n",
    "    for i in range(1,n+1):\n",
    "        cost = 1\n",
    "        if i>size:\n",
    "            size=size*2\n",
    "            cost = i\n",
    "        phi = (2*i) - size\n",
    "        potential = cost + phi - prevphi\n",
    "        prevphi = phi\n",
    "        print(i, \"\\t\\t\", size, \"\\t\", cost, \"  \\t\\t\", phi, \"  \\t\\t\", potential)\n",
    "\n",
    "\n",
    "n = int(input(\"Enter the number of elements that you want: \"))\n",
    "print(\"Potential Method\")\n",
    "potential(n)"
   ]
  },
  {
   "cell_type": "code",
   "execution_count": null,
   "id": "ec697445",
   "metadata": {},
   "outputs": [],
   "source": []
  },
  {
   "cell_type": "markdown",
   "id": "97b42fca",
   "metadata": {},
   "source": [
    "# Hiring Problem"
   ]
  },
  {
   "cell_type": "code",
   "execution_count": 25,
   "id": "accc9c27",
   "metadata": {},
   "outputs": [
    {
     "name": "stdout",
     "output_type": "stream",
     "text": [
      "[10, 9, 8, 7, 6, 5, 4, 3, 2, 1]\n",
      "Total cost: 62\n",
      "Candidates interviewed:  10\n",
      "150\n"
     ]
    }
   ],
   "source": [
    "import random\n",
    "\n",
    "\n",
    "def hiring_problem(candidates):\n",
    "    interview_cost = 5\n",
    "    hiring_cost = 10\n",
    "    pay_per_day = 2\n",
    "    days_worked = 1\n",
    "    current_best = 0\n",
    "    candidates_interviewed = 0\n",
    "    cost = 0\n",
    "    for candidate in candidates:\n",
    "        if candidate>current_best:\n",
    "            current_best = candidate\n",
    "            hiring_new_cost = interview_cost + hiring_cost\n",
    "            firing_current_cost = days_worked * pay_per_day\n",
    "            cost += hiring_new_cost + firing_current_cost\n",
    "            days_worked = 0\n",
    "        else:\n",
    "            cost += interview_cost\n",
    "            days_worked += 1\n",
    "        candidates_interviewed += 1\n",
    "    return cost,candidates_interviewed\n",
    "\n",
    "#best case\n",
    "candidates = [10,9,8,7,6,5,4,3,2,1]\n",
    "\n",
    "#worst case\n",
    "#candidates = [1,2,3,4,5,6,7,8,9,10]\n",
    "\n",
    "#average case\n",
    "#candidates = random.sample(range(1,11),10)\n",
    "print(candidates)\n",
    "cost, candidates_interviewed = hiring_problem(candidates)\n",
    "print(\"Total cost:\",cost)\n",
    "print(\"Candidates interviewed: \",candidates_interviewed)\n",
    "formula_cost = 5*10+candidates_interviewed*10\n",
    "print(formula_cost)"
   ]
  },
  {
   "cell_type": "code",
   "execution_count": null,
   "id": "f70ab427",
   "metadata": {},
   "outputs": [],
   "source": []
  },
  {
   "cell_type": "markdown",
   "id": "3f614627",
   "metadata": {},
   "source": [
    "# KD Tree"
   ]
  },
  {
   "cell_type": "code",
   "execution_count": 5,
   "id": "46a40a1d",
   "metadata": {},
   "outputs": [
    {
     "name": "stdout",
     "output_type": "stream",
     "text": [
      "\n",
      "root: (3, 6)\n",
      "|-- left: (2, 7)\n",
      "|-- right: (17, 15)\n",
      "||---- left: (6, 12)\n",
      "|||------ right: (9, 1)\n",
      "||---- right: (13, 15)\n",
      "|||------ left: (10, 19)\n"
     ]
    }
   ],
   "source": [
    "class node:\n",
    "    def __init__(self,value,left,right,parent,compare):\n",
    "        self.value = value\n",
    "        self.left = left\n",
    "        self.right = right\n",
    "        self.parent = parent\n",
    "        self.compare = compare\n",
    "  \n",
    "\n",
    "\n",
    "    \n",
    "def toggle_compare(variable):\n",
    "    return variable^1\n",
    "\n",
    "def insert_node(value):\n",
    "    global root_node\n",
    "    current_parent = root_node\n",
    "    current_value = value\n",
    "    current_compare = current_parent.compare\n",
    "    parent_found = False\n",
    "    \n",
    "    while not parent_found:\n",
    "        if current_value[current_compare]<current_parent.value[current_compare]:\n",
    "            if current_parent.left == None:\n",
    "                new_node = node(current_value,None,None,current_parent,toggle_compare(current_compare))\n",
    "                current_parent.left = new_node\n",
    "                parent_found = True\n",
    "            else:\n",
    "                current_parent = current_parent.left\n",
    "                current_compare = toggle_compare(current_compare)\n",
    "        else:\n",
    "            if current_parent.right == None:\n",
    "                new_node = node(current_value,None,None,current_parent,toggle_compare(current_compare))\n",
    "                current_parent.right = new_node\n",
    "                parent_found = True\n",
    "            else:\n",
    "                current_parent = current_parent.right\n",
    "                current_compare = toggle_compare(current_compare)\n",
    "    return root_node\n",
    "\n",
    "        \n",
    "def print_tree(node,indent=0,prefix='root'):\n",
    "    if indent==0:\n",
    "        print()\n",
    "    if node is not None:\n",
    "        print(f\"{'' if indent == 0 else '|' * indent}\" + \"--\" * indent + f\"{'' if indent == 0 else ' '}\" + f\"{prefix}: ({node.value[0]}, {node.value[1]})\")\n",
    "        print_tree(node.left, indent + 1, \"left\")\n",
    "        print_tree(node.right, indent + 1, \"right\")\n",
    "\n",
    "        \n",
    "input_values = [[3, 6], [17, 15], [13, 15], [6, 12], [9, 1], [2, 7], [10, 19]]\n",
    "root_node = node(input_values[0],None,None,None,0)\n",
    "for i in range(1,len(input_values)):\n",
    "    root_node = insert_node(input_values[i])\n",
    "    \n",
    "print_tree(root_node)"
   ]
  },
  {
   "cell_type": "code",
   "execution_count": null,
   "id": "014178bd",
   "metadata": {},
   "outputs": [],
   "source": []
  },
  {
   "cell_type": "markdown",
   "id": "713fd99c",
   "metadata": {},
   "source": [
    "# Ford Fulkerson"
   ]
  },
  {
   "cell_type": "code",
   "execution_count": 16,
   "id": "6a83dbee",
   "metadata": {},
   "outputs": [
    {
     "name": "stdout",
     "output_type": "stream",
     "text": [
      "All possible paths from S to T : [['S', 'A', 'B', 'T'], ['S', 'D', 'C', 'T'], ['S', 'D', 'B', 'T']]\n",
      "Path ['S', 'D', 'B', 'T'] not possible\n",
      "Max flow is :  5\n"
     ]
    }
   ],
   "source": [
    "def ford_fulkerson(possible_paths, graph):\n",
    "    flow = 0\n",
    "    # Sort possible paths based on the minimum edge value\n",
    "    possible_paths.sort(key=lambda path: min(graph[path[i]][path[i + 1]] for i in range(len(path) - 1)))\n",
    "    # Traversing each possible path one by one\n",
    "    for path in possible_paths:\n",
    "        min_edge = float('inf')\n",
    "        # Finding the augmenting (minimum edge)\n",
    "        for i in range(len(path) - 1):\n",
    "            edge_length = graph[path[i]][path[i + 1]]\n",
    "            min_edge = min(min_edge, edge_length)\n",
    "        # Updating the capacities and handling bottlenecks (full flow)\n",
    "        for i in range(len(path) - 1):\n",
    "            # When edge in full flow\n",
    "            if graph[path[i]][path[i + 1]] == 0:\n",
    "                print(f'Path {path} not possible')\n",
    "                break\n",
    "            else:\n",
    "                graph[path[i]][path[i + 1]] -= min_edge\n",
    "        flow += min_edge\n",
    "    return flow\n",
    "\n",
    "\n",
    "# DFS approach to find all possible paths\n",
    "def dfs_paths(graph, start, goal, path=[]):\n",
    "    path = path + [start]\n",
    "    if start == goal:\n",
    "        return [path]\n",
    "    if start not in graph:\n",
    "        return []\n",
    "    paths = []\n",
    "    for neighbor in graph[start]:\n",
    "        if neighbor not in path:\n",
    "            new_paths = dfs_paths(graph, neighbor, goal, path)\n",
    "            for new_path in new_paths:\n",
    "                paths.append(new_path)\n",
    "    return paths\n",
    "\n",
    "# graph = {\n",
    "#     'S' : {'A' : 3, 'B' : 2},\n",
    "#     'A': {'B': 5, 'T' : 2 },\n",
    "#     'B': {'T': 3}\n",
    "# }\n",
    "\n",
    "# graph2 = {\n",
    "#     'S' : {'A' : 100, 'B' : 100},\n",
    "#     'A': {'C': 7},\n",
    "#     'B': {'C': 3},\n",
    "#     'C':{'T':1}\n",
    "# }\n",
    "graph3 = {\n",
    "    'S' : {'A' : 9, 'D' : 3},\n",
    "    'A': {'B': 9},\n",
    "    'B': {'T': 2},\n",
    "    'D': {'C':4,'B':7},\n",
    "    'C':{'T':5}\n",
    "}\n",
    "\n",
    "# graph4 = {\n",
    "#     '1' : {'2' : 8, '3' : 10},\n",
    "#     '2': {'4': 2,'5':7},\n",
    "#     '3': {'2': 3,'5':12},\n",
    "#     '4': {'6':10},\n",
    "#     '5':{'4':4,'6':8}\n",
    "# }\n",
    "\n",
    "source = 'S'\n",
    "target = 'T'\n",
    "possible_paths = dfs_paths(graph3, source, target)\n",
    "print(\"All possible paths from\", source, \"to\", target, \":\", possible_paths)\n",
    "\n",
    "max_flow = ford_fulkerson(possible_paths,graph3)\n",
    "print('Max flow is : ',max_flow)"
   ]
  },
  {
   "cell_type": "code",
   "execution_count": null,
   "id": "ca009a0d",
   "metadata": {},
   "outputs": [],
   "source": []
  },
  {
   "cell_type": "markdown",
   "id": "8a6e61f9",
   "metadata": {},
   "source": [
    "# Graham Scan"
   ]
  },
  {
   "cell_type": "code",
   "execution_count": 19,
   "id": "16687399",
   "metadata": {},
   "outputs": [
    {
     "name": "stdout",
     "output_type": "stream",
     "text": [
      "Convex Hull: [(0, 0), (3, 1), (4, 4), (0, 3)]\n"
     ]
    }
   ],
   "source": [
    "import math\n",
    "\n",
    "def polar_angle(point):\n",
    "    x1, y1 = point\n",
    "    angle = math.atan2(y1,x1)\n",
    "    return math.degrees(angle)\n",
    "\n",
    "def turn_calculator(prev, curr, next):\n",
    "    x1, y1 = prev\n",
    "    x2, y2 = curr\n",
    "    x3, y3 = next\n",
    "    cross_product = (x2 - x1) * (y3 - y2) - (y2 - y1) * (x3-x2)\n",
    "    return cross_product\n",
    "\n",
    "def graham_scan(points):\n",
    "    if len(points) < 3:\n",
    "        return []\n",
    "    \n",
    "    sorted_points = sorted(points, key=polar_angle)\n",
    "    stack = [sorted_points[0], sorted_points[1]]\n",
    "    for i in range(2, len(sorted_points)):\n",
    "        while len(stack) > 1 and turn_calculator(stack[-2],stack[-1],sorted_points[i]) <= 0:\n",
    "            stack.pop()\n",
    "        stack.append(sorted_points[i])\n",
    "    return stack\n",
    "\n",
    "input_points = [(0, 3), (1, 1), (2, 2), (4, 4),(0, 0), (1, 2), (3, 1), (3, 3)]\n",
    "convex_hull = graham_scan(input_points)\n",
    "convex_hull = sorted(convex_hull,key=polar_angle)\n",
    "print(\"Convex Hull:\", convex_hull)"
   ]
  },
  {
   "cell_type": "code",
   "execution_count": null,
   "id": "9dfa05bd",
   "metadata": {},
   "outputs": [],
   "source": []
  },
  {
   "cell_type": "code",
   "execution_count": null,
   "id": "27fe296c",
   "metadata": {},
   "outputs": [],
   "source": []
  },
  {
   "cell_type": "markdown",
   "id": "72c03944",
   "metadata": {},
   "source": [
    "# Randomised QuickSort, Hoare, Lomuto"
   ]
  },
  {
   "cell_type": "code",
   "execution_count": 39,
   "id": "eae6cfba",
   "metadata": {},
   "outputs": [
    {
     "name": "stdout",
     "output_type": "stream",
     "text": [
      "Shuffled array: [100, 99, 98, 97, 96, 95, 94, 93, 92, 91, 90, 89, 88, 87, 86, 85, 84, 83, 82, 81, 80, 79, 78, 77, 76, 75, 74, 73, 72, 71, 70, 69, 68, 67, 66, 65, 64, 63, 62, 61, 60, 59, 58, 57, 56, 55, 54, 53, 52, 51, 50, 49, 48, 47, 46, 45, 44, 43, 42, 41, 40, 39, 38, 37, 36, 35, 34, 33, 32, 31, 30, 29, 28, 27, 26, 25, 24, 23, 22, 21, 20, 19, 18, 17, 16, 15, 14, 13, 12, 11, 10, 9, 8, 7, 6, 5, 4, 3, 2, 1]\n",
      "Sorting array using normal quicksort:\n",
      "[1, 2, 3, 4, 5, 6, 7, 8, 9, 10, 11, 12, 13, 14, 15, 16, 17, 18, 19, 20, 21, 22, 23, 24, 25, 26, 27, 28, 29, 30, 31, 32, 33, 34, 35, 36, 37, 38, 39, 40, 41, 42, 43, 44, 45, 46, 47, 48, 49, 50, 51, 52, 53, 54, 55, 56, 57, 58, 59, 60, 61, 62, 63, 64, 65, 66, 67, 68, 69, 70, 71, 72, 73, 74, 75, 76, 77, 78, 79, 80, 81, 82, 83, 84, 85, 86, 87, 88, 89, 90, 91, 92, 93, 94, 95, 96, 97, 98, 99, 100]\n",
      "Comparisons: 4950\n",
      "Sorting array using randomised quicksort\n",
      "[1, 2, 3, 4, 5, 6, 7, 8, 9, 10, 11, 12, 13, 14, 15, 16, 17, 18, 19, 20, 21, 22, 23, 24, 25, 26, 27, 28, 29, 30, 31, 32, 33, 34, 35, 36, 37, 38, 39, 40, 41, 42, 43, 44, 45, 46, 47, 48, 49, 50, 51, 52, 53, 54, 55, 56, 57, 58, 59, 60, 61, 62, 63, 64, 65, 66, 67, 68, 69, 70, 71, 72, 73, 74, 75, 76, 77, 78, 79, 80, 81, 82, 83, 84, 85, 86, 87, 88, 89, 90, 91, 92, 93, 94, 95, 96, 97, 98, 99, 100]\n",
      "Comparisons: 705\n"
     ]
    }
   ],
   "source": [
    "import random\n",
    "import time\n",
    "count1,count2=0,0\n",
    "\n",
    "\n",
    "def rqs(arr):\n",
    "    global count1\n",
    "    if len(arr) <= 1:\n",
    "        return arr\n",
    "    else:\n",
    "        pivot = random.choice(arr)\n",
    "        left_list = [x for x in arr if x<pivot]\n",
    "        middle_list = [x for x in arr if x==pivot]\n",
    "        right_list = [x for x in arr if x>pivot]\n",
    "        count1 += len(left_list) + len(right_list)\n",
    "        return rqs(left_list) + middle_list + rqs(right_list)\n",
    "\n",
    "\n",
    "\n",
    "def normal_qs(arr):\n",
    "    global count2\n",
    "    left_list = []\n",
    "    right_list = []\n",
    "    \n",
    "    if len(arr)<=1:\n",
    "        return arr\n",
    "    else:\n",
    "        pivot = arr[0]\n",
    "        for i in range(1,len(arr)):\n",
    "            if arr[i]<pivot:\n",
    "                left_list.append(arr[i])\n",
    "                count2 += 1\n",
    "            else:\n",
    "                right_list.append(arr[i])\n",
    "                count2 += 1\n",
    "        return normal_qs(left_list) + [pivot] + normal_qs(right_list) \n",
    "\n",
    "\n",
    "arr = list(i for i in range(1,101))\n",
    "reversed_arr = arr[::-1]\n",
    "print(\"Shuffled array:\",reversed_arr)\n",
    "\n",
    "print(\"Sorting array using normal quicksort:\")\n",
    "sorted_using_normalqs = normal_qs(reversed_arr)\n",
    "print(sorted_using_normalqs)\n",
    "print(\"Comparisons:\",count2)\n",
    "print(\"Sorting array using randomised quicksort\")\n",
    "sorted_using_rqs = rqs(reversed_arr)\n",
    "print(sorted_using_rqs)\n",
    "print(\"Comparisons:\",count1)"
   ]
  },
  {
   "cell_type": "code",
   "execution_count": 40,
   "id": "e300bc13",
   "metadata": {},
   "outputs": [],
   "source": [
    "#Hoare"
   ]
  },
  {
   "cell_type": "code",
   "execution_count": 62,
   "id": "4acc9a25",
   "metadata": {},
   "outputs": [
    {
     "name": "stdout",
     "output_type": "stream",
     "text": [
      "Original Array: [100, 99, 98, 97, 96, 95, 94, 93, 92, 91, 90, 89, 88, 87, 86, 85, 84, 83, 82, 81, 80, 79, 78, 77, 76, 75, 74, 73, 72, 71, 70, 69, 68, 67, 66, 65, 64, 63, 62, 61, 60, 59, 58, 57, 56, 55, 54, 53, 52, 51, 50, 49, 48, 47, 46, 45, 44, 43, 42, 41, 40, 39, 38, 37, 36, 35, 34, 33, 32, 31, 30, 29, 28, 27, 26, 25, 24, 23, 22, 21, 20, 19, 18, 17, 16, 15, 14, 13, 12, 11, 10, 9, 8, 7, 6, 5, 4, 3, 2, 1]\n",
      "Sorted array: [1, 2, 3, 4, 5, 6, 7, 8, 9, 10, 11, 12, 13, 14, 15, 16, 17, 18, 19, 20, 21, 22, 23, 24, 25, 26, 27, 28, 29, 30, 31, 32, 33, 34, 35, 36, 37, 38, 39, 40, 41, 42, 43, 44, 45, 46, 47, 48, 49, 50, 51, 52, 53, 54, 55, 56, 57, 58, 59, 60, 61, 62, 63, 64, 65, 66, 67, 68, 69, 70, 71, 72, 73, 74, 75, 76, 77, 78, 79, 80, 81, 82, 83, 84, 85, 86, 87, 88, 89, 90, 91, 92, 93, 94, 95, 96, 97, 98, 99, 100]\n",
      "Time taken: 0.0\n",
      "Number of comparisons: 0\n"
     ]
    }
   ],
   "source": [
    "import random\n",
    "import time\n",
    "swaps_hoare = 0\n",
    "\n",
    "def partition_hoare(arr,low,high):\n",
    "    global swaps_hoare\n",
    "    pivot = arr[low]\n",
    "    i=low-1\n",
    "    j=high+1\n",
    "    while True:\n",
    "        i += 1\n",
    "        while arr[i]<pivot:\n",
    "            i = i + 1\n",
    "        j = j - 1\n",
    "        while arr[j]>pivot:\n",
    "            j = j - 1\n",
    "        if i>=j:\n",
    "            return j\n",
    "        swaps_hoare += 1\n",
    "        arr[i],arr[j]=arr[j],arr[i]\n",
    "\n",
    "\n",
    "def quicksort_hoare(arr,low,high):\n",
    "    if low<high:\n",
    "        pivot = partition_hoare(arr,low,high)\n",
    "        quicksort(arr,low,pivot)\n",
    "        quicksort(arr,pivot+1,high)\n",
    "\n",
    "arr = list(range(1,101))\n",
    "#random.shuffle(arr)\n",
    "reversed_arr = arr[::-1]\n",
    "print(\"Original Array:\", reversed_arr)\n",
    "start_time = time.time()\n",
    "quicksort_hoare(arr, 0, len(arr) - 1)\n",
    "end_time = time.time()\n",
    "print(\"Sorted array:\",arr)\n",
    "print(\"Time taken:\",(end_time-start_time)*1000)\n",
    "print(\"Number of comparisons:\",swaps_hoare)"
   ]
  },
  {
   "cell_type": "code",
   "execution_count": null,
   "id": "5abe3c1d",
   "metadata": {},
   "outputs": [],
   "source": []
  },
  {
   "cell_type": "code",
   "execution_count": null,
   "id": "22d69cf1",
   "metadata": {},
   "outputs": [],
   "source": []
  },
  {
   "cell_type": "code",
   "execution_count": 42,
   "id": "051923f9",
   "metadata": {},
   "outputs": [],
   "source": [
    "#Lomuto"
   ]
  },
  {
   "cell_type": "code",
   "execution_count": 60,
   "id": "6ebe7d69",
   "metadata": {},
   "outputs": [
    {
     "name": "stdout",
     "output_type": "stream",
     "text": [
      "Original Array: [100, 99, 98, 97, 96, 95, 94, 93, 92, 91, 90, 89, 88, 87, 86, 85, 84, 83, 82, 81, 80, 79, 78, 77, 76, 75, 74, 73, 72, 71, 70, 69, 68, 67, 66, 65, 64, 63, 62, 61, 60, 59, 58, 57, 56, 55, 54, 53, 52, 51, 50, 49, 48, 47, 46, 45, 44, 43, 42, 41, 40, 39, 38, 37, 36, 35, 34, 33, 32, 31, 30, 29, 28, 27, 26, 25, 24, 23, 22, 21, 20, 19, 18, 17, 16, 15, 14, 13, 12, 11, 10, 9, 8, 7, 6, 5, 4, 3, 2, 1]\n",
      "Sorted array: [1, 2, 3, 4, 5, 6, 7, 8, 9, 10, 11, 12, 13, 14, 15, 16, 17, 18, 19, 20, 21, 22, 23, 24, 25, 26, 27, 28, 29, 30, 31, 32, 33, 34, 35, 36, 37, 38, 39, 40, 41, 42, 43, 44, 45, 46, 47, 48, 49, 50, 51, 52, 53, 54, 55, 56, 57, 58, 59, 60, 61, 62, 63, 64, 65, 66, 67, 68, 69, 70, 71, 72, 73, 74, 75, 76, 77, 78, 79, 80, 81, 82, 83, 84, 85, 86, 87, 88, 89, 90, 91, 92, 93, 94, 95, 96, 97, 98, 99, 100]\n",
      "Time taken: 9.045124053955078\n",
      "Number of comparisons: 4950\n"
     ]
    }
   ],
   "source": [
    "import random\n",
    "import time\n",
    "swaps_lomuto = 0\n",
    "\n",
    "\n",
    "def partition_lomuto(arr,low,high):\n",
    "    global swaps_lomuto\n",
    "    pivot = arr[high]\n",
    "    i = low-1\n",
    "    for j in range(low,high):\n",
    "        if arr[j]<=pivot:\n",
    "            i += 1\n",
    "            swaps_lomuto += 1\n",
    "            arr[i],arr[j]=arr[j],arr[i]\n",
    "    arr[i+1],arr[high] = arr[high],arr[i+1]\n",
    "    return i+1\n",
    "    \n",
    "    \n",
    "def quicksort_lomuto(arr,low,high):\n",
    "    if low<high:\n",
    "        pivot = partition_lomuto(arr,low,high)\n",
    "        quicksort_lomuto(arr,low,pivot-1)\n",
    "        quicksort_lomuto(arr,pivot+1,high)\n",
    "\n",
    "\n",
    "arr = list(range(1,101))\n",
    "#random.shuffle(arr)\n",
    "reversed_arr = arr[::-1]\n",
    "print(\"Original Array:\", reversed_arr)\n",
    "start_time = time.time()\n",
    "quicksort_lomuto(arr, 0, len(arr) - 1)\n",
    "end_time = time.time()\n",
    "print(\"Sorted array:\",arr)\n",
    "print(\"Time taken:\",(end_time-start_time)*1000)\n",
    "print(\"Number of comparisons:\",swaps_lomuto)"
   ]
  },
  {
   "cell_type": "code",
   "execution_count": null,
   "id": "c2a10665",
   "metadata": {},
   "outputs": [],
   "source": []
  }
 ],
 "metadata": {
  "kernelspec": {
   "display_name": "Python 3 (ipykernel)",
   "language": "python",
   "name": "python3"
  },
  "language_info": {
   "codemirror_mode": {
    "name": "ipython",
    "version": 3
   },
   "file_extension": ".py",
   "mimetype": "text/x-python",
   "name": "python",
   "nbconvert_exporter": "python",
   "pygments_lexer": "ipython3",
   "version": "3.11.5"
  }
 },
 "nbformat": 4,
 "nbformat_minor": 5
}
