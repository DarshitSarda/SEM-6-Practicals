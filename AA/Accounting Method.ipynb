{
 "cells": [
  {
   "cell_type": "code",
   "execution_count": 1,
   "id": "50443b85",
   "metadata": {},
   "outputs": [
    {
     "name": "stdout",
     "output_type": "stream",
     "text": [
      "Enter number of elements:10\n",
      "Accounting method\n",
      "Elements\tDoubling Copying Cost\tInsertion Cost\tTotal Cost\t\tBank\n",
      "1 \t\t\t\t 0 \t\t 1 \t 1 \t\t\t 1\n",
      "2 \t\t\t\t 1 \t\t 1 \t 2 \t\t\t 2\n",
      "3 \t\t\t\t 2 \t\t 1 \t 3 \t\t\t 2\n",
      "4 \t\t\t\t 0 \t\t 1 \t 1 \t\t\t 4\n",
      "5 \t\t\t\t 4 \t\t 1 \t 5 \t\t\t 2\n",
      "6 \t\t\t\t 0 \t\t 1 \t 1 \t\t\t 4\n",
      "7 \t\t\t\t 0 \t\t 1 \t 1 \t\t\t 6\n",
      "8 \t\t\t\t 0 \t\t 1 \t 1 \t\t\t 8\n",
      "9 \t\t\t\t 8 \t\t 1 \t 9 \t\t\t 2\n",
      "10 \t\t\t\t 0 \t\t 1 \t 1 \t\t\t 4\n"
     ]
    }
   ],
   "source": [
    "def accounting(n):\n",
    "    size = 1\n",
    "    total = 0\n",
    "    dcost = 0\n",
    "    icost = 0\n",
    "    bank = 0\n",
    "    print(\"Elements\\tDoubling Copying Cost\\tInsertion Cost\\tTotal Cost\\t\\tBank\")\n",
    "    \n",
    "    for i in range(1, n + 1):\n",
    "        icost = 1 \n",
    "        if i == 1:\n",
    "            dcost = i - 1\n",
    "            bank = bank + (2 - (icost + dcost))\n",
    "        elif i > size:\n",
    "            size *= 2\n",
    "            dcost = i - 1\n",
    "            bank = bank + (3 - (icost + dcost))\n",
    "        else:\n",
    "            dcost = 0\n",
    "            bank = bank + (3 - (icost + dcost))\n",
    "        \n",
    "        total = icost + dcost\n",
    "        print(i, \"\\t\\t\\t\\t\", dcost, \"\\t\\t\", icost, \"\\t\", total, \"\\t\\t\\t\", bank) \n",
    "        icost = 0\n",
    "        dcost = 0\n",
    "\n",
    "n = int(input(\"Enter number of elements:\")) \n",
    "print(\"Accounting method\") \n",
    "accounting(n)"
   ]
  },
  {
   "cell_type": "code",
   "execution_count": null,
   "id": "f00fccd5",
   "metadata": {},
   "outputs": [],
   "source": []
  }
 ],
 "metadata": {
  "kernelspec": {
   "display_name": "Python 3 (ipykernel)",
   "language": "python",
   "name": "python3"
  },
  "language_info": {
   "codemirror_mode": {
    "name": "ipython",
    "version": 3
   },
   "file_extension": ".py",
   "mimetype": "text/x-python",
   "name": "python",
   "nbconvert_exporter": "python",
   "pygments_lexer": "ipython3",
   "version": "3.11.5"
  }
 },
 "nbformat": 4,
 "nbformat_minor": 5
}
