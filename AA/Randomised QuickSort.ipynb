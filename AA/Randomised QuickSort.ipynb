{
 "cells": [
  {
   "cell_type": "code",
   "execution_count": 3,
   "id": "04e20a0a",
   "metadata": {},
   "outputs": [
    {
     "name": "stdout",
     "output_type": "stream",
     "text": [
      "Sorted using a rqs approach: [1, 2, 3, 4, 5, 6, 7, 8, 9, 10, 11, 12, 13, 14, 15]\n",
      "Time taken by rqs: 0.0 Comparisons: 44\n",
      "Sorted using normal qs approach: [1, 2, 3, 4, 5, 6, 7, 8, 9, 10, 11, 12, 13, 14, 15]\n",
      "Time taken by normal qs: 0.0 Comparisons: 105\n"
     ]
    }
   ],
   "source": [
    "import random\n",
    "import time\n",
    "count1, count2 = 0, 0\n",
    "\n",
    "def randomized_qs_algo(lst):\n",
    "    global count1\n",
    "\n",
    "    if len(lst) <= 1:\n",
    "        return lst\n",
    "    else:\n",
    "        pivot_value = random.choice(lst)\n",
    "        left_list = [x for x in lst if x < pivot_value]\n",
    "        middle_list = [x for x in lst if x == pivot_value]\n",
    "        right_list = [x for x in lst if x > pivot_value]\n",
    "        count1 += len(left_list) + len(right_list)\n",
    "        return randomized_qs_algo(left_list) + middle_list + randomized_qs_algo(right_list)\n",
    "\n",
    "\n",
    "def normal_qs_algo(lst):\n",
    "    global count2\n",
    "\n",
    "    if len(lst) <= 1:\n",
    "        return lst\n",
    "    else:\n",
    "        pivot_value = lst[0]\n",
    "        left_list = []\n",
    "        right_list = []\n",
    "        for i in range(1, len(lst)):\n",
    "            if lst[i] < pivot_value:\n",
    "                left_list.append(lst[i])\n",
    "                count2 += 1\n",
    "            else:\n",
    "                right_list.append(lst[i])\n",
    "                count2 += 1\n",
    "        return normal_qs_algo(left_list) + [pivot_value] + normal_qs_algo(right_list)\n",
    "\n",
    "\n",
    "array = [1,2,3,4,5,6,7,8,9,10,11,12,13,14,15]\n",
    "array_copy = array.copy() \n",
    "start_time = time.time()\n",
    "print(\"Sorted using a rqs approach:\", randomized_qs_algo(array))\n",
    "print(\"Time taken by rqs:\", (time.time() - start_time), \"Comparisons:\", count1)\n",
    "\n",
    "start_time = time.time()\n",
    "print(\"Sorted using normal qs approach:\", normal_qs_algo(array_copy))\n",
    "print(\"Time taken by normal qs:\", (time.time() - start_time), \"Comparisons:\", count2)"
   ]
  },
  {
   "cell_type": "code",
   "execution_count": 4,
   "id": "503d233e",
   "metadata": {},
   "outputs": [
    {
     "name": "stdout",
     "output_type": "stream",
     "text": [
      "Number of swaps with random pivot: 3\n",
      "Number of swaps with leftmost pivot: 3\n"
     ]
    }
   ],
   "source": [
    "import random\n",
    "\n",
    "def get_partition_random(array, low, high):\n",
    "    pivot_index = random.randint(low, high)  \n",
    "    pivot = array[pivot_index]\n",
    "    swaps = 0\n",
    "    i = low\n",
    "    for j in range(low, high + 1):\n",
    "        if j != pivot_index and array[j] <= pivot:\n",
    "            array[i], array[j] = array[j], array[i]\n",
    "            i += 1\n",
    "            swaps += 1\n",
    "    return i - 1, swaps\n",
    "\n",
    "def get_partition_leftmost(array, low, high):\n",
    "    pivot = array[low]  # Choose leftmost element as the pivot\n",
    "    swaps = 0\n",
    "    i = low + 1\n",
    "    for j in range(low + 1, high + 1):\n",
    "        if array[j] <= pivot:\n",
    "            array[i], array[j] = array[j], array[i]\n",
    "            i += 1\n",
    "            swaps += 1\n",
    "    array[low], array[i - 1] = array[i - 1], array[low]\n",
    "    swaps += 1\n",
    "    return i - 1, swaps\n",
    "\n",
    "def quicksort_random(array, low, high):\n",
    "    if low < high:\n",
    "        partition, swaps = get_partition_random(array, low, high)\n",
    "        quicksort_random(array, low, partition - 1)\n",
    "        quicksort_random(array, partition + 1, high)\n",
    "        return swaps\n",
    "\n",
    "def quicksort_leftmost(array, low, high):\n",
    "    if low < high:\n",
    "        partition, swaps = get_partition_leftmost(array, low, high)\n",
    "        quicksort_leftmost(array, low, partition - 1)\n",
    "        quicksort_leftmost(array, partition + 1, high)\n",
    "        return swaps\n",
    "\n",
    "array = [4, 1, 3, 5, 6]\n",
    "array_copy = array[:]  \n",
    "swaps_random = quicksort_random(array, 0, len(array) - 1)\n",
    "swaps_leftmost = quicksort_leftmost(array_copy, 0, len(array_copy) - 1)\n",
    "\n",
    "print(\"Number of swaps with random pivot:\", swaps_random)\n",
    "print(\"Number of swaps with leftmost pivot:\", swaps_leftmost)"
   ]
  },
  {
   "cell_type": "code",
   "execution_count": null,
   "id": "65ec3aab",
   "metadata": {},
   "outputs": [],
   "source": []
  }
 ],
 "metadata": {
  "kernelspec": {
   "display_name": "Python 3 (ipykernel)",
   "language": "python",
   "name": "python3"
  },
  "language_info": {
   "codemirror_mode": {
    "name": "ipython",
    "version": 3
   },
   "file_extension": ".py",
   "mimetype": "text/x-python",
   "name": "python",
   "nbconvert_exporter": "python",
   "pygments_lexer": "ipython3",
   "version": "3.11.5"
  }
 },
 "nbformat": 4,
 "nbformat_minor": 5
}
