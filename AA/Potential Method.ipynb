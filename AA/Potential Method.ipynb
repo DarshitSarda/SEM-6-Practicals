{
 "cells": [
  {
   "cell_type": "code",
   "execution_count": 5,
   "id": "a8987b51",
   "metadata": {},
   "outputs": [
    {
     "name": "stdout",
     "output_type": "stream",
     "text": [
      "Enter the number of elements in the array: 17\n",
      "\n",
      "Elements\tSize\tTotal Cost\tPhi\tPotential\n",
      "1 \t\t 1 \t 1   \t\t 1   \t\t 2\n",
      "2 \t\t 2 \t 2   \t\t 2   \t\t 3\n",
      "3 \t\t 4 \t 3   \t\t 2   \t\t 3\n",
      "4 \t\t 4 \t 1   \t\t 4   \t\t 3\n",
      "5 \t\t 8 \t 5   \t\t 2   \t\t 3\n",
      "6 \t\t 8 \t 1   \t\t 4   \t\t 3\n",
      "7 \t\t 8 \t 1   \t\t 6   \t\t 3\n",
      "8 \t\t 8 \t 1   \t\t 8   \t\t 3\n",
      "9 \t\t 16 \t 9   \t\t 2   \t\t 3\n",
      "10 \t\t 16 \t 1   \t\t 4   \t\t 3\n",
      "11 \t\t 16 \t 1   \t\t 6   \t\t 3\n",
      "12 \t\t 16 \t 1   \t\t 8   \t\t 3\n",
      "13 \t\t 16 \t 1   \t\t 10   \t\t 3\n",
      "14 \t\t 16 \t 1   \t\t 12   \t\t 3\n",
      "15 \t\t 16 \t 1   \t\t 14   \t\t 3\n",
      "16 \t\t 16 \t 1   \t\t 16   \t\t 3\n",
      "17 \t\t 32 \t 17   \t\t 2   \t\t 3\n"
     ]
    }
   ],
   "source": [
    "def potential(n):\n",
    "    size = 1\n",
    "    cost = 0\n",
    "    phi = 0\n",
    "    prevphi = 0\n",
    "    print(\"Elements\\tSize\\tTotal Cost\\tPhi\\tPotential\")\n",
    "    for i in range(1, n + 1):\n",
    "        cost = 1\n",
    "        if i > size:\n",
    "            size *= 2\n",
    "            cost = i\n",
    "        phi = (2 * i) - size     #phi = 2*number of items in array - size or capacity of array\n",
    "        potential = cost + phi - prevphi\n",
    "        prevphi = phi\n",
    "        print(i, \"\\t\\t\", size, \"\\t\", cost, \"  \\t\\t\", phi, \"  \\t\\t\", potential)\n",
    "\n",
    "n = int(input(\"Enter the number of elements in the array: \"))\n",
    "print()\n",
    "potential(n)"
   ]
  },
  {
   "cell_type": "code",
   "execution_count": null,
   "id": "e84b84dd",
   "metadata": {},
   "outputs": [],
   "source": []
  }
 ],
 "metadata": {
  "kernelspec": {
   "display_name": "Python 3 (ipykernel)",
   "language": "python",
   "name": "python3"
  },
  "language_info": {
   "codemirror_mode": {
    "name": "ipython",
    "version": 3
   },
   "file_extension": ".py",
   "mimetype": "text/x-python",
   "name": "python",
   "nbconvert_exporter": "python",
   "pygments_lexer": "ipython3",
   "version": "3.11.5"
  }
 },
 "nbformat": 4,
 "nbformat_minor": 5
}
