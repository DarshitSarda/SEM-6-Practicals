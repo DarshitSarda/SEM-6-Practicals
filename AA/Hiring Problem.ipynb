{
 "cells": [
  {
   "cell_type": "code",
   "execution_count": 3,
   "id": "320a8faf",
   "metadata": {},
   "outputs": [
    {
     "name": "stdout",
     "output_type": "stream",
     "text": [
      "[5, 4, 3, 7, 6, 10, 8, 1, 2, 9]\n",
      "Total cost: 86\n",
      "Candidates interviewed: 10\n",
      "3\n",
      "Formula cost :  80\n"
     ]
    }
   ],
   "source": [
    "# The hiring problem simulates a hiring agency that interviews and hires candidates on your behalf, there is an interview cost ci and a hiring cost ch attached to each of them, at any point the best candidate is hired, we need to compute the total cost incurred by the company\n",
    "import random\n",
    "\n",
    "def hiring_problem(candidates):\n",
    "    hiring_cost = 10\n",
    "    interview_cost = 5\n",
    "    pay_per_day  = 2\n",
    "    current_best = 0\n",
    "    days_worked = 0\n",
    "    candidates_interviewed = 0\n",
    "    cost = 0  \n",
    "    hirings = 0\n",
    "    for candidate in candidates:\n",
    "        if candidate > current_best:\n",
    "            hirings += 1\n",
    "            current_best = candidate\n",
    "            hiring_new_cost = interview_cost + hiring_cost\n",
    "            firing_current_cost = days_worked * pay_per_day\n",
    "            cost += hiring_new_cost + firing_current_cost  \n",
    "            days_worked = 0\n",
    "        else:\n",
    "            cost += interview_cost\n",
    "            days_worked += 1\n",
    "        candidates_interviewed += 1\n",
    "    return cost, candidates_interviewed,hirings\n",
    "\n",
    "\n",
    "# Worst Case\n",
    "# candidates = [1,2,3,4,5,6,7,8,9,10]\n",
    "# Best Case\n",
    "# candidates = [10,9,8,7,6,5,4,3,2,1]\n",
    "# Average Case\n",
    "candidates = random.sample(range(1, 11), 10)\n",
    "print(candidates)\n",
    "cost, candidates_interviewed,hirings = hiring_problem(candidates)\n",
    "print(\"Total cost:\", cost)\n",
    "print(\"Candidates interviewed:\", candidates_interviewed)\n",
    "formula_cost = 10*5 + hirings*10\n",
    "print(hirings)\n",
    "print('Formula cost : ',formula_cost)"
   ]
  },
  {
   "cell_type": "code",
   "execution_count": null,
   "id": "cad32ae1",
   "metadata": {},
   "outputs": [],
   "source": []
  },
  {
   "cell_type": "code",
   "execution_count": null,
   "id": "a2f73126",
   "metadata": {},
   "outputs": [],
   "source": []
  }
 ],
 "metadata": {
  "kernelspec": {
   "display_name": "Python 3 (ipykernel)",
   "language": "python",
   "name": "python3"
  },
  "language_info": {
   "codemirror_mode": {
    "name": "ipython",
    "version": 3
   },
   "file_extension": ".py",
   "mimetype": "text/x-python",
   "name": "python",
   "nbconvert_exporter": "python",
   "pygments_lexer": "ipython3",
   "version": "3.11.5"
  }
 },
 "nbformat": 4,
 "nbformat_minor": 5
}
