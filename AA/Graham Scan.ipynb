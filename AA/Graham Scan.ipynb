{
 "cells": [
  {
   "cell_type": "code",
   "execution_count": 1,
   "id": "f32da353",
   "metadata": {},
   "outputs": [
    {
     "name": "stdout",
     "output_type": "stream",
     "text": [
      "Convex Hull: [(0, 0), (3, 1), (4, 4), (0, 3)]\n"
     ]
    }
   ],
   "source": [
    "import math\n",
    "\n",
    "def polar_angle(point):\n",
    "    x1, y1 = point\n",
    "    angle = math.atan2(y1, x1)  \n",
    "    return math.degrees(angle)\n",
    "\n",
    "def turn_calculator(prev, curr, next):\n",
    "    x1, y1 = prev\n",
    "    x2, y2 = curr\n",
    "    x3, y3 = next\n",
    "    cross_product = (x2 - x1) * (y3 - y2) - (y2 - y1) * (x3 - x2)\n",
    "    \n",
    "    '''If cross product is +ve : left turn\n",
    "       If cross product is -ve : right turn\n",
    "       If cross product is 0 : collinear\n",
    "    '''\n",
    "    return cross_product\n",
    "\n",
    "def graham_scan(points):\n",
    "    if len(points) < 3:\n",
    "        return []\n",
    "\n",
    "    # Sort the points based on their polar angle\n",
    "    sorted_points = sorted(points, key=polar_angle)\n",
    "\n",
    "    # Initialize the stack with the first two points\n",
    "    # Always part of the convex hull\n",
    "    stack = [sorted_points[0], sorted_points[1]]\n",
    "\n",
    "    for i in range(2, len(sorted_points)):\n",
    "        while len(stack) > 1 and turn_calculator(stack[-2], stack[-1], sorted_points[i]) <= 0:\n",
    "            stack.pop()  \n",
    "        stack.append(sorted_points[i])\n",
    "\n",
    "    return stack\n",
    "\n",
    "input_points = [(0, 3), (1, 1), (2, 2), (4, 4),(0, 0), (1, 2), (3, 1), (3, 3)]\n",
    "convex_hull = graham_scan(input_points)\n",
    "convex_hull = sorted(convex_hull,key=polar_angle)\n",
    "print(\"Convex Hull:\", convex_hull)"
   ]
  },
  {
   "cell_type": "code",
   "execution_count": null,
   "id": "851beb26",
   "metadata": {},
   "outputs": [],
   "source": []
  }
 ],
 "metadata": {
  "kernelspec": {
   "display_name": "Python 3 (ipykernel)",
   "language": "python",
   "name": "python3"
  },
  "language_info": {
   "codemirror_mode": {
    "name": "ipython",
    "version": 3
   },
   "file_extension": ".py",
   "mimetype": "text/x-python",
   "name": "python",
   "nbconvert_exporter": "python",
   "pygments_lexer": "ipython3",
   "version": "3.11.5"
  }
 },
 "nbformat": 4,
 "nbformat_minor": 5
}
