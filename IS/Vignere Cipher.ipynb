{
 "cells": [
  {
   "cell_type": "code",
   "execution_count": 6,
   "id": "f9f008ac",
   "metadata": {},
   "outputs": [
    {
     "name": "stdout",
     "output_type": "stream",
     "text": [
      "{'A': 0, 'a': 0, 'B': 1, 'b': 1, 'C': 2, 'c': 2, 'D': 3, 'd': 3, 'E': 4, 'e': 4, 'F': 5, 'f': 5, 'G': 6, 'g': 6, 'H': 7, 'h': 7, 'I': 8, 'i': 8, 'J': 9, 'j': 9, 'K': 10, 'k': 10, 'L': 11, 'l': 11, 'M': 12, 'm': 12, 'N': 13, 'n': 13, 'O': 14, 'o': 14, 'P': 15, 'p': 15, 'Q': 16, 'q': 16, 'R': 17, 'r': 17, 'S': 18, 's': 18, 'T': 19, 't': 19, 'U': 20, 'u': 20, 'V': 21, 'v': 21, 'W': 22, 'w': 22, 'X': 23, 'x': 23, 'Y': 24, 'y': 24, 'Z': 25, 'z': 25}\n",
      "DARSHITSARDA\n",
      "ZZZZZZZZZZZZ\n",
      "CZQRGHSRZQCZ\n",
      "DARSHITSARDA\n"
     ]
    }
   ],
   "source": [
    "mapping = {}\n",
    "for i in range(26):\n",
    "    mapping[chr(65 + i)] = i  # Uppercase letters\n",
    "    mapping[chr(97 + i)] = i  # Lowercase letters\n",
    "\n",
    "\n",
    "print(mapping)\n",
    "\n",
    "def key_padding(plain_text,key):\n",
    "    if len(key) < len(plain_text):\n",
    "        i = 0\n",
    "        while len(key) != len(plain_text):\n",
    "            key += key[i]\n",
    "            i += 1\n",
    "    return key\n",
    "\n",
    "def vignere_cipher(plain_text,key):\n",
    "    ciphered_text = ''\n",
    "    for p,k in zip(plain_text,key) :\n",
    "        mapped_value1 = mapping[p]\n",
    "        mapped_value2 = mapping[k]\n",
    "        ciphered_value = (mapped_value1 + mapped_value2) % 26\n",
    "        ciphered_text += chr(ciphered_value+65)\n",
    "    return ciphered_text\n",
    "\n",
    "def vignere_decipher(plain_text,key):\n",
    "    deciphered_text = ''\n",
    "    for p,k in zip(plain_text,key):\n",
    "        mapped_value1 = mapping[p]\n",
    "        mapped_value2 = mapping[k]\n",
    "        deciphered_value = (mapped_value1 - mapped_value2) % 26\n",
    "        deciphered_text += chr(deciphered_value+65)\n",
    "    return deciphered_text\n",
    "        \n",
    "\n",
    "plain_text = 'DARSHIT SARDA'\n",
    "plain_text = plain_text.replace(' ','')\n",
    "print(plain_text)\n",
    "key = 'ZZ'\n",
    "key = key_padding(plain_text,key)\n",
    "print(key)\n",
    "ciphered_text = vignere_cipher(plain_text,key)\n",
    "print(ciphered_text)\n",
    "deciphered_text = vignere_decipher(ciphered_text,key)\n",
    "print(deciphered_text)"
   ]
  },
  {
   "cell_type": "code",
   "execution_count": 7,
   "id": "25abb99d",
   "metadata": {},
   "outputs": [],
   "source": [
    "#Encryption: (Pi + Ki)%26\n",
    "#Decrpytion: (Ei - Ki)%26"
   ]
  },
  {
   "cell_type": "code",
   "execution_count": null,
   "id": "1e61da35",
   "metadata": {},
   "outputs": [],
   "source": []
  }
 ],
 "metadata": {
  "kernelspec": {
   "display_name": "Python 3 (ipykernel)",
   "language": "python",
   "name": "python3"
  },
  "language_info": {
   "codemirror_mode": {
    "name": "ipython",
    "version": 3
   },
   "file_extension": ".py",
   "mimetype": "text/x-python",
   "name": "python",
   "nbconvert_exporter": "python",
   "pygments_lexer": "ipython3",
   "version": "3.11.5"
  }
 },
 "nbformat": 4,
 "nbformat_minor": 5
}
