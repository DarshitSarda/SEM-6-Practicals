{
 "cells": [
  {
   "cell_type": "code",
   "execution_count": 73,
   "id": "0ec332a5",
   "metadata": {},
   "outputs": [
    {
     "name": "stdout",
     "output_type": "stream",
     "text": [
      "Plaintext: DART\n",
      "Key: SARDA\n",
      "Ciphertext: VAIW\n",
      "Decrypted Text: DART\n"
     ]
    }
   ],
   "source": [
    "mapping = {}\n",
    "for i in range(26):\n",
    "    mapping[chr(65+i)] = i;\n",
    "\n",
    "def key_padding(plain_text, key):\n",
    "    if len(key) < len(plain_text):\n",
    "        i = 0\n",
    "        while len(key) != len(plain_text):\n",
    "            key += key[i % len(key)]  # Repeat key cyclically\n",
    "            i += 1\n",
    "    return key\n",
    "\n",
    "\n",
    "def encrypt(plaintext, key):\n",
    "    ciphertext = ''\n",
    "    for p, k in zip(plaintext, key):\n",
    "        cipher_value = (mapping[p.upper()] + mapping[k.upper()]) % 26\n",
    "        ciphertext += chr(cipher_value + 65)\n",
    "    return ciphertext\n",
    "\n",
    "def decrypt(ciphertext, key):\n",
    "    decrypted_text = ''\n",
    "    for c, k in zip(ciphertext, key):\n",
    "        decrypted_value = (mapping[c.upper()] - mapping[k.upper()]) % 26\n",
    "        decrypted_text += chr(decrypted_value + 65)\n",
    "    return decrypted_text\n",
    "\n",
    "# Example usage\n",
    "if __name__ == \"__main__\":\n",
    "    plaintext = 'DART'\n",
    "    plaintext = plaintext.replace(' ','')\n",
    "    key = 'SARDA'\n",
    "    key = key_padding(plaintext, key)\n",
    "\n",
    "    print(\"Plaintext:\", plaintext)\n",
    "    print(\"Key:\", key)\n",
    "\n",
    "    ciphertext = encrypt(plaintext, key)\n",
    "    print(\"Ciphertext:\", ciphertext)\n",
    "\n",
    "    decrypted_text = decrypt(ciphertext, key)\n",
    "    print(\"Decrypted Text:\", decrypted_text)"
   ]
  },
  {
   "cell_type": "code",
   "execution_count": null,
   "id": "c5506e1a",
   "metadata": {},
   "outputs": [],
   "source": []
  },
  {
   "cell_type": "code",
   "execution_count": null,
   "id": "200f8cb8",
   "metadata": {},
   "outputs": [],
   "source": []
  },
  {
   "cell_type": "code",
   "execution_count": null,
   "id": "a793665e",
   "metadata": {},
   "outputs": [],
   "source": []
  }
 ],
 "metadata": {
  "kernelspec": {
   "display_name": "Python 3 (ipykernel)",
   "language": "python",
   "name": "python3"
  },
  "language_info": {
   "codemirror_mode": {
    "name": "ipython",
    "version": 3
   },
   "file_extension": ".py",
   "mimetype": "text/x-python",
   "name": "python",
   "nbconvert_exporter": "python",
   "pygments_lexer": "ipython3",
   "version": "3.11.5"
  }
 },
 "nbformat": 4,
 "nbformat_minor": 5
}
