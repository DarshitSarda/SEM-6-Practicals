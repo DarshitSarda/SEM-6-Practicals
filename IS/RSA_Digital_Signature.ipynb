{
 "cells": [
  {
   "cell_type": "code",
   "execution_count": 5,
   "id": "63d94c88",
   "metadata": {},
   "outputs": [
    {
     "name": "stdout",
     "output_type": "stream",
     "text": [
      "87883\n",
      "527017\n",
      "87883\n",
      "87883\n",
      "Message recieved successfully!\n"
     ]
    }
   ],
   "source": [
    "import math \n",
    "import hashlib\n",
    "\n",
    "\n",
    "\n",
    "def private_key(e,phi):\n",
    "    d = 2\n",
    "    while d < phi:\n",
    "        if (d*e)%phi == 1:\n",
    "            break\n",
    "        else:\n",
    "            d += 1\n",
    "    return d\n",
    "def public_keyy(phi):\n",
    "    e = 2\n",
    "    while e < phi:\n",
    "        if math.gcd(e,phi) == 1:\n",
    "            break\n",
    "        else:\n",
    "            e += 1\n",
    "    return e\n",
    "\n",
    "def rsa_encrypt(message,e,n):\n",
    "    return pow(message,e)%n\n",
    "def rsa_decrypt(message,d,n):\n",
    "    return pow(message,d)%n\n",
    "\n",
    "def sha1_hash(message):\n",
    "    message = str(message)\n",
    "    return int(hashlib.sha1(message.encode()).hexdigest()[:5],16)\n",
    "\n",
    "# make sure to pick a large prime number like 1013,1019 \n",
    "p,q = 1013,1019\n",
    "message = 16\n",
    "n = p*q\n",
    "phi = (p-1)*(q-1)\n",
    "e = public_keyy(phi)\n",
    "d = private_key(e,phi)\n",
    "\n",
    "md1 = sha1_hash(message)\n",
    "print(md1)\n",
    "dig_sign = rsa_encrypt(md1,d,n)\n",
    "print(dig_sign)\n",
    "\n",
    "# tampering the message to test error\n",
    "# message = 11\n",
    "\n",
    "# sending the digital signature and original message to b \n",
    "md2 = sha1_hash(message)\n",
    "print(md2)\n",
    "dig_sign_decrypted = rsa_decrypt(dig_sign,e,n)\n",
    "print(dig_sign_decrypted)\n",
    "\n",
    "if dig_sign_decrypted == md2:\n",
    "    print('Message recieved successfully!')\n",
    "else:\n",
    "    print('Message was tampered with')"
   ]
  },
  {
   "cell_type": "code",
   "execution_count": null,
   "id": "90016b59",
   "metadata": {},
   "outputs": [],
   "source": []
  }
 ],
 "metadata": {
  "kernelspec": {
   "display_name": "Python 3 (ipykernel)",
   "language": "python",
   "name": "python3"
  },
  "language_info": {
   "codemirror_mode": {
    "name": "ipython",
    "version": 3
   },
   "file_extension": ".py",
   "mimetype": "text/x-python",
   "name": "python",
   "nbconvert_exporter": "python",
   "pygments_lexer": "ipython3",
   "version": "3.11.5"
  }
 },
 "nbformat": 4,
 "nbformat_minor": 5
}
