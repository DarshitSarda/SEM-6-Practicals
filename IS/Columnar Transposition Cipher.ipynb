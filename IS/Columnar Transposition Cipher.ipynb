{
 "cells": [
  {
   "cell_type": "code",
   "execution_count": 34,
   "id": "d7ee49e2",
   "metadata": {},
   "outputs": [
    {
     "name": "stdout",
     "output_type": "stream",
     "text": [
      "Ciphered text: EVLNEACDTKESEAQROFOJDEECUWIREE\n"
     ]
    }
   ],
   "source": [
    "mapping = {}\n",
    "for i in range(26):\n",
    "    mapping[chr(65+i)] = i\n",
    "\n",
    "\n",
    "def sequence_generator(key):\n",
    "    sequence = []\n",
    "    for char in key:\n",
    "        sequence.append(mapping[char])\n",
    "    # sequence.sort()\n",
    "    return sequence    \n",
    "    \n",
    "    \n",
    "def column_choice(sequence):\n",
    "    min_element = min(sequence)\n",
    "    min_index = sequence.index(min_element)\n",
    "    sequence[min_index] = 100\n",
    "    return min_index\n",
    "\n",
    "def columnar_cipher(matrix, sequence, n):\n",
    "    ciphered_text = ''\n",
    "    if n > 0:\n",
    "        min_index = column_choice(sequence)\n",
    "        for i in range(len(matrix)):\n",
    "            if matrix[i][min_index] != 'X':\n",
    "                ciphered_text += matrix[i][min_index]\n",
    "        return ciphered_text + columnar_cipher(matrix, sequence, n - 1)\n",
    "    else:\n",
    "        return ''\n",
    "\n",
    "\n",
    "def columnar_transposition_matrix(plain_text, n):\n",
    "    matrix = []\n",
    "    for i in range(n):\n",
    "        row = []\n",
    "        for j in range(n):\n",
    "            index = i * n + j\n",
    "            if index < len(plain_text):\n",
    "                row.append(plain_text[index])\n",
    "            else:\n",
    "                row.append('X')  # Add padding character if the index goes out of range\n",
    "        matrix.append(row)\n",
    "    return matrix\n",
    "\n",
    "plain_text = 'WEAREDISCOVEREDFLEEATONCEQKJEU'\n",
    "key = 'ZEBRAS'\n",
    "n = len(key)\n",
    "matrix = columnar_transposition_matrix(plain_text, n)\n",
    "sequence = sequence_generator(key)\n",
    "print(\"Ciphered text:\", columnar_cipher(matrix, sequence, n).replace(' ',''))"
   ]
  },
  {
   "cell_type": "code",
   "execution_count": 10,
   "id": "2de713f8",
   "metadata": {},
   "outputs": [
    {
     "data": {
      "text/plain": [
       "[['W', 'E', 'A', 'R', 'E', 'D'],\n",
       " ['I', 'S', 'C', 'O', 'V', 'E'],\n",
       " ['R', 'E', 'D', 'F', 'L', 'E'],\n",
       " ['E', 'A', 'T', 'O', 'N', 'C'],\n",
       " ['E', 'Q', 'K', 'J', 'E', 'U'],\n",
       " ['X', 'X', 'X', 'X', 'X', 'X']]"
      ]
     },
     "execution_count": 10,
     "metadata": {},
     "output_type": "execute_result"
    }
   ],
   "source": [
    "matrix"
   ]
  },
  {
   "cell_type": "code",
   "execution_count": null,
   "id": "0ae6687a",
   "metadata": {},
   "outputs": [],
   "source": []
  },
  {
   "cell_type": "code",
   "execution_count": null,
   "id": "6301c1c6",
   "metadata": {},
   "outputs": [],
   "source": []
  },
  {
   "cell_type": "code",
   "execution_count": null,
   "id": "89bf3a9c",
   "metadata": {},
   "outputs": [],
   "source": []
  },
  {
   "cell_type": "code",
   "execution_count": null,
   "id": "d54aa579",
   "metadata": {},
   "outputs": [],
   "source": []
  }
 ],
 "metadata": {
  "kernelspec": {
   "display_name": "Python 3 (ipykernel)",
   "language": "python",
   "name": "python3"
  },
  "language_info": {
   "codemirror_mode": {
    "name": "ipython",
    "version": 3
   },
   "file_extension": ".py",
   "mimetype": "text/x-python",
   "name": "python",
   "nbconvert_exporter": "python",
   "pygments_lexer": "ipython3",
   "version": "3.11.5"
  }
 },
 "nbformat": 4,
 "nbformat_minor": 5
}
