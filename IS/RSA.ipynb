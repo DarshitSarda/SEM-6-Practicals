{
 "cells": [
  {
   "cell_type": "code",
   "execution_count": 2,
   "id": "498a96f5",
   "metadata": {},
   "outputs": [
    {
     "name": "stdout",
     "output_type": "stream",
     "text": [
      "44\n",
      "85184\n",
      "44\n"
     ]
    }
   ],
   "source": [
    "import math \n",
    "\n",
    "\n",
    "def private_key(e,phi):\n",
    "    d = 2\n",
    "    while d < phi:\n",
    "        if (d*e)%phi == 1:\n",
    "            break\n",
    "        else:\n",
    "            d += 1\n",
    "    return d\n",
    "\n",
    "def public_key(phi):\n",
    "    e = 2\n",
    "    while e < phi:\n",
    "        if math.gcd(e,phi) == 1:\n",
    "            break\n",
    "        else:\n",
    "            e += 1\n",
    "    return e\n",
    "\n",
    "def rsa_encrypt(message,e,n):\n",
    "    return pow(message,e)%n\n",
    "def rsa_decrypt(message,d,n):\n",
    "    return pow(message,d)%n\n",
    "\n",
    "# make sure to pick a large prime number like 1013,1019 \n",
    "p,q = 1013,1019\n",
    "message = 44\n",
    "n = p*q\n",
    "phi = (p-1)*(q-1)\n",
    "e = public_key(phi)\n",
    "d = private_key(e,phi)\n",
    "ciphered_text = rsa_encrypt(message,e,n)\n",
    "deciphered_text = rsa_decrypt(ciphered_text,d,n)\n",
    "print(message)\n",
    "print(ciphered_text)\n",
    "print(deciphered_text)"
   ]
  },
  {
   "cell_type": "code",
   "execution_count": null,
   "id": "1e9a4e58",
   "metadata": {},
   "outputs": [],
   "source": []
  },
  {
   "cell_type": "code",
   "execution_count": null,
   "id": "e821c5e4",
   "metadata": {},
   "outputs": [],
   "source": []
  },
  {
   "cell_type": "code",
   "execution_count": null,
   "id": "83dcb93d",
   "metadata": {},
   "outputs": [],
   "source": []
  }
 ],
 "metadata": {
  "kernelspec": {
   "display_name": "Python 3 (ipykernel)",
   "language": "python",
   "name": "python3"
  },
  "language_info": {
   "codemirror_mode": {
    "name": "ipython",
    "version": 3
   },
   "file_extension": ".py",
   "mimetype": "text/x-python",
   "name": "python",
   "nbconvert_exporter": "python",
   "pygments_lexer": "ipython3",
   "version": "3.11.5"
  }
 },
 "nbformat": 4,
 "nbformat_minor": 5
}
