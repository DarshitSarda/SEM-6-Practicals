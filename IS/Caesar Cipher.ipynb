{
 "cells": [
  {
   "cell_type": "code",
   "execution_count": 3,
   "id": "47ef3f10",
   "metadata": {},
   "outputs": [
    {
     "name": "stdout",
     "output_type": "stream",
     "text": [
      "{'A': 0, 'B': 1, 'C': 2, 'D': 3, 'E': 4, 'F': 5, 'G': 6, 'H': 7, 'I': 8, 'J': 9, 'K': 10, 'L': 11, 'M': 12, 'N': 13, 'O': 14, 'P': 15, 'Q': 16, 'R': 17, 'S': 18, 'T': 19, 'U': 20, 'V': 21, 'W': 22, 'X': 23, 'Y': 24, 'Z': 25}\n",
      "darshit\n",
      "GDUVKLW\n",
      "DARSHIT\n"
     ]
    }
   ],
   "source": [
    "mapping = {}\n",
    "for i in range(26):\n",
    "    mapping[chr(65+i)] = i\n",
    "\n",
    "print(mapping)\n",
    "\n",
    "def ceasar_cipher(text,shift):\n",
    "    ciphered_text = ''\n",
    "    for char in text :\n",
    "        if char.isupper():\n",
    "            ciphered_value = (mapping[char] + shift ) % 26 \n",
    "            ciphered_text += chr(65 + ciphered_value)\n",
    "        elif char.islower():\n",
    "            ciphered_value = (mapping[char.upper()] + shift ) % 26 \n",
    "            ciphered_text += chr(65 + ciphered_value)\n",
    "            \n",
    "    return ciphered_text\n",
    "\n",
    "def ceasar_decipher(text,shift):\n",
    "    deciphered_text = ''\n",
    "    for char in text :\n",
    "        if char.isupper():\n",
    "            deciphered_value = (mapping[char] - shift ) % 26 \n",
    "            deciphered_text += chr(65 + deciphered_value)\n",
    "        elif char.islower():\n",
    "            deciphered_value = (mapping[char.upper()] - shift ) % 26 \n",
    "            deciphered_text += chr(65 + deciphered_value)\n",
    "            \n",
    "    return deciphered_text\n",
    "\n",
    "plain_text = 'darshit'\n",
    "plain_text = plain_text.replace(' ','')\n",
    "print(plain_text)\n",
    "ciphered_text = ceasar_cipher(plain_text,3)\n",
    "print(ciphered_text)\n",
    "deciphered_text = ceasar_decipher(ciphered_text,3)\n",
    "print(deciphered_text)"
   ]
  },
  {
   "cell_type": "code",
   "execution_count": null,
   "id": "112c5e46",
   "metadata": {},
   "outputs": [],
   "source": []
  }
 ],
 "metadata": {
  "kernelspec": {
   "display_name": "Python 3 (ipykernel)",
   "language": "python",
   "name": "python3"
  },
  "language_info": {
   "codemirror_mode": {
    "name": "ipython",
    "version": 3
   },
   "file_extension": ".py",
   "mimetype": "text/x-python",
   "name": "python",
   "nbconvert_exporter": "python",
   "pygments_lexer": "ipython3",
   "version": "3.11.5"
  }
 },
 "nbformat": 4,
 "nbformat_minor": 5
}
