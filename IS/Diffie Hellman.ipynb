{
 "cells": [
  {
   "cell_type": "code",
   "execution_count": 12,
   "id": "1e5b2eac",
   "metadata": {},
   "outputs": [
    {
     "name": "stdout",
     "output_type": "stream",
     "text": [
      "18\n",
      "18\n",
      "Keys have been exchanged succesfully!\n"
     ]
    }
   ],
   "source": [
    "# Alice and Bob public keys = (P,G)\n",
    "P = 23\n",
    "G = 5\n",
    "\n",
    "# Alice and Bobs private keys selected\n",
    "a = 4\n",
    "b = 3\n",
    "\n",
    "def key_generator(P,G,p):\n",
    "    return (G**p) % P\n",
    "\n",
    "def secret_key_generator(P,gen_key,p):\n",
    "    return (gen_key**p) % P\n",
    "\n",
    "# exchange of generated keys takes place ( hard coded )\n",
    "Xa = key_generator(P,G,a)                               # Xa= (g^a)mod p\n",
    "Xb = key_generator(P,G,b)                               # Xb= (g^b)mod p \n",
    "\n",
    "# getting generated secret keys \n",
    "\n",
    "Ak = secret_key_generator(P,Xb,a)               # Ak = (Xb^a) mod p\n",
    "Bk = secret_key_generator(P,Xa,b)               # Bk = (Xa^b) mod p\n",
    "print(Ak)\n",
    "print(Bk)\n",
    "\n",
    "if Ak == Bk:\n",
    "    print('Keys have been exchanged succesfully!')"
   ]
  },
  {
   "cell_type": "code",
   "execution_count": null,
   "id": "f6cf4984",
   "metadata": {},
   "outputs": [],
   "source": []
  }
 ],
 "metadata": {
  "kernelspec": {
   "display_name": "Python 3 (ipykernel)",
   "language": "python",
   "name": "python3"
  },
  "language_info": {
   "codemirror_mode": {
    "name": "ipython",
    "version": 3
   },
   "file_extension": ".py",
   "mimetype": "text/x-python",
   "name": "python",
   "nbconvert_exporter": "python",
   "pygments_lexer": "ipython3",
   "version": "3.11.5"
  }
 },
 "nbformat": 4,
 "nbformat_minor": 5
}
